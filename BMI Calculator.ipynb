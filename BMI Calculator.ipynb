{
 "cells": [
  {
   "cell_type": "code",
   "execution_count": 2,
   "id": "db8db697-9437-414b-9bbe-01f0d9b525ce",
   "metadata": {},
   "outputs": [
    {
     "name": "stdin",
     "output_type": "stream",
     "text": [
      " samuel\n"
     ]
    }
   ],
   "source": [
    "weight = input()"
   ]
  },
  {
   "cell_type": "code",
   "execution_count": null,
   "id": "be1d6499-c1d5-47da-9d50-85660bf89ebf",
   "metadata": {},
   "outputs": [],
   "source": [
    "\n",
    "name = input(\"Enter your name:\")\n",
    "weight = int(input(\"Enter your weight in pound: \"))\n",
    "height = int(input(\"Enter your height in inches: \"))\n",
    "BMI = (weight * 703) / (height * height)\n",
    "print(BMI)\n",
    "if BMI > 0:\n",
    "    if (BMI<18.5):\n",
    "        print(name+\", you are underweight\")\n",
    "    elif (BMI<=24.9):\n",
    "         print(name+\", you are normal weight\")\n",
    "    elif (BMI<=29.9):\n",
    "         print(name+\", you are overweight\")\n",
    "    elif (BMI<=34.9):\n",
    "         print(name+\", you are obese\")\n",
    "    elif (BMI<=39.9):\n",
    "         print(name+\", you are severely obese\")\n",
    "    else:\n",
    "         print(name+\", you are morbidly obese\")\n",
    "else: \n",
    "    print(\"Enter a valid input\")"
   ]
  },
  {
   "cell_type": "code",
   "execution_count": null,
   "id": "92852506-e2a6-49a3-8a8b-43a25e57e59c",
   "metadata": {},
   "outputs": [],
   "source": []
  },
  {
   "cell_type": "code",
   "execution_count": null,
   "id": "ed81ab82-2197-411c-8e33-dd62111d5d23",
   "metadata": {},
   "outputs": [],
   "source": []
  },
  {
   "cell_type": "code",
   "execution_count": null,
   "id": "639b34d0-543a-4c8b-b977-c09755a4a3ca",
   "metadata": {},
   "outputs": [],
   "source": []
  },
  {
   "cell_type": "code",
   "execution_count": null,
   "id": "9466686a-0783-49aa-b59f-8a19c2ba7d9e",
   "metadata": {},
   "outputs": [],
   "source": []
  },
  {
   "cell_type": "code",
   "execution_count": null,
   "id": "1b75df21-e4ee-4f34-b92c-c5d5592e9cfc",
   "metadata": {},
   "outputs": [],
   "source": []
  },
  {
   "cell_type": "code",
   "execution_count": null,
   "id": "1498ecff-7d59-40ac-928e-a6b25540717b",
   "metadata": {},
   "outputs": [],
   "source": []
  },
  {
   "cell_type": "code",
   "execution_count": null,
   "id": "7adc1878-9dec-42ab-a051-c6723858e3a0",
   "metadata": {},
   "outputs": [],
   "source": []
  },
  {
   "cell_type": "code",
   "execution_count": 6,
   "id": "6e68caae-dea3-4c03-95fb-1f16b2cd68fa",
   "metadata": {},
   "outputs": [
    {
     "name": "stdout",
     "output_type": "stream",
     "text": [
      "140\n"
     ]
    }
   ],
   "source": [
    "print(weight)"
   ]
  },
  {
   "cell_type": "code",
   "execution_count": null,
   "id": "f88330f1-df27-4f26-ae5e-d1d279efb23c",
   "metadata": {},
   "outputs": [],
   "source": []
  }
 ],
 "metadata": {
  "kernelspec": {
   "display_name": "Python 3 (ipykernel)",
   "language": "python",
   "name": "python3"
  },
  "language_info": {
   "codemirror_mode": {
    "name": "ipython",
    "version": 3
   },
   "file_extension": ".py",
   "mimetype": "text/x-python",
   "name": "python",
   "nbconvert_exporter": "python",
   "pygments_lexer": "ipython3",
   "version": "3.11.7"
  }
 },
 "nbformat": 4,
 "nbformat_minor": 5
}
